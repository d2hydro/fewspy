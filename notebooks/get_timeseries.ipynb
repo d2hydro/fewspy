{
 "cells": [
  {
   "cell_type": "code",
   "execution_count": 1,
   "id": "13fa3c49",
   "metadata": {},
   "outputs": [],
   "source": [
    "import time\n",
    "from datetime import datetime\n",
    "\n",
    "from fewspy.api import Api"
   ]
  },
  {
   "cell_type": "code",
   "execution_count": 2,
   "id": "c9389c1e",
   "metadata": {},
   "outputs": [],
   "source": [
    "LOCATION_IDS = [\n",
    "    \"NL34.HL.KGM154.LWZ1\",\n",
    "    \"NL34.HL.KGM154.HWZ1\",\n",
    "    \"NL34.HL.KGM154.KWK\",\n",
    "    \"NL34.HL.KGM156.PMP2\",\n",
    "    \"NL34.HL.KGM156.HWZ1\",\n",
    "    \"NL34.HL.KGM155.HWZ1\",\n",
    "    \"NL34.HL.KGM156.KSL1\",\n",
    "    \"NL34.HL.KGM156.LWZ1\",\n",
    "    \"NL34.HL.KGM156.PMP1\",\n",
    "    \"NL34.HL.KGM154.PMP1\",\n",
    "    \"NL34.HL.KGM155.LWZ1\"\n",
    "]\n",
    "PARAMETER_IDS = [\"Q [m3/s] [NVT] [OW]\", \"WATHTE [m] [NAP] [OW]\"]\n",
    "\n",
    "api = Api(\n",
    "    url=\"https://www.hydrobase.nl/fews/nzv/FewsWebServices/rest/fewspiservice/v1/\"\n",
    ")"
   ]
  },
  {
   "cell_type": "markdown",
   "id": "857da6e4",
   "metadata": {},
   "source": [
    "### Run at once"
   ]
  },
  {
   "cell_type": "code",
   "execution_count": null,
   "id": "ea8d88c0",
   "metadata": {},
   "outputs": [],
   "source": [
    "%%time\n",
    "time_series_set = api.get_time_series(\n",
    "    filter_id=\"WDB_OW_KGM\",\n",
    "    location_ids=LOCATION_IDS,\n",
    "    start_time=datetime(2022, 5, 1),\n",
    "    end_time=datetime(2022, 5, 5),\n",
    "    parameter_ids=PARAMETER_IDS\n",
    ")"
   ]
  },
  {
   "cell_type": "code",
   "execution_count": 3,
   "id": "263a9d3a",
   "metadata": {},
   "outputs": [
    {
     "name": "stdout",
     "output_type": "stream",
     "text": [
      "name= fewspy.get_time_series_async\n"
     ]
    },
    {
     "ename": "RuntimeError",
     "evalue": "This event loop is already running",
     "output_type": "error",
     "traceback": [
      "\u001b[1;31m---------------------------------------------------------------------------\u001b[0m",
      "\u001b[1;31mRuntimeError\u001b[0m                              Traceback (most recent call last)",
      "File \u001b[1;32m<timed exec>:1\u001b[0m, in \u001b[0;36m<module>\u001b[1;34m\u001b[0m\n",
      "File \u001b[1;32md:\\repositories\\fewspy\\src\\fewspy\\api.py:108\u001b[0m, in \u001b[0;36mApi.get_time_series\u001b[1;34m(self, filter_id, location_ids, start_time, end_time, parameter_ids, qualifier_ids, thinning, only_headers, show_statistics, parallel)\u001b[0m\n\u001b[0;32m    106\u001b[0m     kwargs\u001b[38;5;241m.\u001b[39mpop(\u001b[38;5;124m\"\u001b[39m\u001b[38;5;124monly_headers\u001b[39m\u001b[38;5;124m\"\u001b[39m)\n\u001b[0;32m    107\u001b[0m     kwargs\u001b[38;5;241m.\u001b[39mpop(\u001b[38;5;124m\"\u001b[39m\u001b[38;5;124mshow_statistics\u001b[39m\u001b[38;5;124m\"\u001b[39m)\n\u001b[1;32m--> 108\u001b[0m     result \u001b[38;5;241m=\u001b[39m get_time_series_async(\u001b[38;5;241m*\u001b[39m\u001b[38;5;241m*\u001b[39mkwargs)\n\u001b[0;32m    109\u001b[0m \u001b[38;5;28;01melse\u001b[39;00m:\n\u001b[0;32m    110\u001b[0m     result \u001b[38;5;241m=\u001b[39m get_time_series(\u001b[38;5;241m*\u001b[39m\u001b[38;5;241m*\u001b[39mkwargs)\n",
      "File \u001b[1;32md:\\repositories\\fewspy\\src\\fewspy\\get_time_series_async.py:108\u001b[0m, in \u001b[0;36mget_time_series_async\u001b[1;34m(url, filter_id, location_ids, parameter_ids, qualifier_ids, start_time, end_time, thinning, document_format, verify, logger)\u001b[0m\n\u001b[0;32m    106\u001b[0m     \u001b[38;5;28mprint\u001b[39m(\u001b[38;5;124m\"\u001b[39m\u001b[38;5;124mname=\u001b[39m\u001b[38;5;124m\"\u001b[39m, \u001b[38;5;18m__name__\u001b[39m)\n\u001b[0;32m    107\u001b[0m     loop \u001b[38;5;241m=\u001b[39m _get_loop()\n\u001b[1;32m--> 108\u001b[0m     result_async \u001b[38;5;241m=\u001b[39m \u001b[43mloop\u001b[49m\u001b[38;5;241;43m.\u001b[39;49m\u001b[43mrun_until_complete\u001b[49m\u001b[43m(\u001b[49m\u001b[43masynciee\u001b[49m\u001b[43m(\u001b[49m\u001b[43m)\u001b[49m\u001b[43m)\u001b[49m\n\u001b[0;32m    109\u001b[0m time_series_set \u001b[38;5;241m=\u001b[39m __result_async_to_time_series_set(result_async)\n\u001b[0;32m    110\u001b[0m \u001b[38;5;28;01mreturn\u001b[39;00m time_series_set\n",
      "File \u001b[1;32mc:\\Miniconda3\\envs\\fewspy\\lib\\asyncio\\base_events.py:622\u001b[0m, in \u001b[0;36mBaseEventLoop.run_until_complete\u001b[1;34m(self, future)\u001b[0m\n\u001b[0;32m    611\u001b[0m \u001b[38;5;124;03m\"\"\"Run until the Future is done.\u001b[39;00m\n\u001b[0;32m    612\u001b[0m \n\u001b[0;32m    613\u001b[0m \u001b[38;5;124;03mIf the argument is a coroutine, it is wrapped in a Task.\u001b[39;00m\n\u001b[1;32m   (...)\u001b[0m\n\u001b[0;32m    619\u001b[0m \u001b[38;5;124;03mReturn the Future's result, or raise its exception.\u001b[39;00m\n\u001b[0;32m    620\u001b[0m \u001b[38;5;124;03m\"\"\"\u001b[39;00m\n\u001b[0;32m    621\u001b[0m \u001b[38;5;28mself\u001b[39m\u001b[38;5;241m.\u001b[39m_check_closed()\n\u001b[1;32m--> 622\u001b[0m \u001b[38;5;28;43mself\u001b[39;49m\u001b[38;5;241;43m.\u001b[39;49m\u001b[43m_check_running\u001b[49m\u001b[43m(\u001b[49m\u001b[43m)\u001b[49m\n\u001b[0;32m    624\u001b[0m new_task \u001b[38;5;241m=\u001b[39m \u001b[38;5;129;01mnot\u001b[39;00m futures\u001b[38;5;241m.\u001b[39misfuture(future)\n\u001b[0;32m    625\u001b[0m future \u001b[38;5;241m=\u001b[39m tasks\u001b[38;5;241m.\u001b[39mensure_future(future, loop\u001b[38;5;241m=\u001b[39m\u001b[38;5;28mself\u001b[39m)\n",
      "File \u001b[1;32mc:\\Miniconda3\\envs\\fewspy\\lib\\asyncio\\base_events.py:582\u001b[0m, in \u001b[0;36mBaseEventLoop._check_running\u001b[1;34m(self)\u001b[0m\n\u001b[0;32m    580\u001b[0m \u001b[38;5;28;01mdef\u001b[39;00m \u001b[38;5;21m_check_running\u001b[39m(\u001b[38;5;28mself\u001b[39m):\n\u001b[0;32m    581\u001b[0m     \u001b[38;5;28;01mif\u001b[39;00m \u001b[38;5;28mself\u001b[39m\u001b[38;5;241m.\u001b[39mis_running():\n\u001b[1;32m--> 582\u001b[0m         \u001b[38;5;28;01mraise\u001b[39;00m \u001b[38;5;167;01mRuntimeError\u001b[39;00m(\u001b[38;5;124m'\u001b[39m\u001b[38;5;124mThis event loop is already running\u001b[39m\u001b[38;5;124m'\u001b[39m)\n\u001b[0;32m    583\u001b[0m     \u001b[38;5;28;01mif\u001b[39;00m events\u001b[38;5;241m.\u001b[39m_get_running_loop() \u001b[38;5;129;01mis\u001b[39;00m \u001b[38;5;129;01mnot\u001b[39;00m \u001b[38;5;28;01mNone\u001b[39;00m:\n\u001b[0;32m    584\u001b[0m         \u001b[38;5;28;01mraise\u001b[39;00m \u001b[38;5;167;01mRuntimeError\u001b[39;00m(\n\u001b[0;32m    585\u001b[0m             \u001b[38;5;124m'\u001b[39m\u001b[38;5;124mCannot run the event loop while another loop is running\u001b[39m\u001b[38;5;124m'\u001b[39m)\n",
      "\u001b[1;31mRuntimeError\u001b[0m: This event loop is already running"
     ]
    }
   ],
   "source": [
    "%%time\n",
    "time_series_set = api.get_time_series(\n",
    "    filter_id=\"WDB_OW_KGM\",\n",
    "    location_ids=LOCATION_IDS,\n",
    "    start_time=datetime(2022, 5, 1),\n",
    "    end_time=datetime(2022, 5, 5),\n",
    "    parameter_ids=PARAMETER_IDS,\n",
    "    parallel=True\n",
    ")"
   ]
  },
  {
   "cell_type": "code",
   "execution_count": null,
   "id": "86aa339e",
   "metadata": {},
   "outputs": [],
   "source": []
  }
 ],
 "metadata": {
  "kernelspec": {
   "display_name": "Python 3 (ipykernel)",
   "language": "python",
   "name": "python3"
  },
  "language_info": {
   "codemirror_mode": {
    "name": "ipython",
    "version": 3
   },
   "file_extension": ".py",
   "mimetype": "text/x-python",
   "name": "python",
   "nbconvert_exporter": "python",
   "pygments_lexer": "ipython3",
   "version": "3.10.4"
  }
 },
 "nbformat": 4,
 "nbformat_minor": 5
}
