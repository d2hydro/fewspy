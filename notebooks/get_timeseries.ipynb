{
 "cells": [
  {
   "cell_type": "code",
   "execution_count": null,
   "id": "97c0561b",
   "metadata": {},
   "outputs": [],
   "source": [
    "import time\n",
    "from datetime import datetime\n",
    "\n",
    "from fewspy.api import Api"
   ]
  },
  {
   "cell_type": "code",
   "execution_count": null,
   "id": "f0c4d63b",
   "metadata": {},
   "outputs": [],
   "source": [
    "LOCATION_IDS = [\n",
    "    \"NL34.HL.KGM154.LWZ1\",\n",
    "    \"NL34.HL.KGM154.HWZ1\",\n",
    "    \"NL34.HL.KGM154.KWK\",\n",
    "    \"NL34.HL.KGM156.PMP2\",\n",
    "    \"NL34.HL.KGM156.HWZ1\",\n",
    "    \"NL34.HL.KGM155.HWZ1\",\n",
    "    \"NL34.HL.KGM156.KSL1\",\n",
    "    \"NL34.HL.KGM156.LWZ1\",\n",
    "    \"NL34.HL.KGM156.PMP1\",\n",
    "    \"NL34.HL.KGM154.PMP1\",\n",
    "    \"NL34.HL.KGM155.LWZ1\"\n",
    "]\n",
    "PARAMETER_IDS = [\"Q [m3/s] [NVT] [OW]\", \"WATHTE [m] [NAP] [OW]\"]\n",
    "\n",
    "api = Api(\n",
    "    url=\"https://www.hydrobase.nl/fews/nzv/FewsWebServices/rest/fewspiservice/v1/\"\n",
    ")"
   ]
  },
  {
   "cell_type": "markdown",
   "id": "cd047c57",
   "metadata": {},
   "source": [
    "### Run at once"
   ]
  },
  {
   "cell_type": "code",
   "execution_count": null,
   "id": "9d62c4fb",
   "metadata": {},
   "outputs": [],
   "source": [
    "%%time\n",
    "time_series_set = api.get_time_series(\n",
    "    filter_id=\"WDB_OW_KGM\",\n",
    "    location_ids=LOCATION_IDS,\n",
    "    start_time=datetime(2022, 5, 1),\n",
    "    end_time=datetime(2022, 5, 5),\n",
    "    parameter_ids=PARAMETER_IDS\n",
    ")"
   ]
  },
  {
   "cell_type": "code",
   "execution_count": null,
   "id": "a3eacb36",
   "metadata": {},
   "outputs": [],
   "source": [
    "%%time\n",
    "time_series_set = api.get_time_series(\n",
    "    filter_id=\"WDB_OW_KGM\",\n",
    "    location_ids=LOCATION_IDS,\n",
    "    start_time=datetime(2022, 5, 1),\n",
    "    end_time=datetime(2022, 5, 5),\n",
    "    parameter_ids=PARAMETER_IDS,\n",
    "    parallel=False\n",
    ")"
   ]
  }
 ],
 "metadata": {
  "kernelspec": {
   "display_name": "Python 3 (ipykernel)",
   "language": "python",
   "name": "python3"
  },
  "language_info": {
   "codemirror_mode": {
    "name": "ipython",
    "version": 3
   },
   "file_extension": ".py",
   "mimetype": "text/x-python",
   "name": "python",
   "nbconvert_exporter": "python",
   "pygments_lexer": "ipython3",
   "version": "3.10.4"
  }
 },
 "nbformat": 4,
 "nbformat_minor": 5
}
